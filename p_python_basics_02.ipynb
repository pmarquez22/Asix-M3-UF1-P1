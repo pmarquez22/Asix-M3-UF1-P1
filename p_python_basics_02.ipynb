{
  "cells": [
    {
      "cell_type": "markdown",
      "metadata": {
        "id": "view-in-github",
        "colab_type": "text"
      },
      "source": [
        "<a href=\"https://colab.research.google.com/github/pmarquez22/Asix-M3-UF1-P1/blob/main/p_python_basics_02.ipynb\" target=\"_parent\"><img src=\"https://colab.research.google.com/assets/colab-badge.svg\" alt=\"Open In Colab\"/></a>"
      ]
    },
    {
      "cell_type": "markdown",
      "id": "053eafa7-ff93-4e4c-8afd-53ad5f68a2f7",
      "metadata": {
        "id": "053eafa7-ff93-4e4c-8afd-53ad5f68a2f7"
      },
      "source": [
        "# Type: Exercici Pràctic (examen uf1)\n",
        "# Programming Language: python\n",
        "# Tools: notebook, git\n",
        "# Contents: Introducció a la programació amb python."
      ]
    },
    {
      "cell_type": "markdown",
      "id": "9c4a4fe5-e4ab-48ca-892e-72da011e6e37",
      "metadata": {
        "id": "9c4a4fe5-e4ab-48ca-892e-72da011e6e37"
      },
      "source": [
        "## PART 2"
      ]
    },
    {
      "cell_type": "markdown",
      "id": "bcab3088-07eb-4182-9bbf-acc7586c0871",
      "metadata": {
        "id": "bcab3088-07eb-4182-9bbf-acc7586c0871"
      },
      "source": [
        "### Exercici 3 (2 punts)\n",
        "\n",
        "Imagineu-vos que sou un professor que imparteix cursos de programació. Una empresa us demana els vostres serveis perquè els treballadors de l'empresa necessiten millorar els seus coneixements de programació. \n",
        "\n",
        "La quantitat de diners que cobrareu dependrà de diferents factors:\n",
        "* Si el curs és basic o avançat\n",
        "* La vostra tarifa per hora\n",
        "* El número d'hores de durada del curs\n",
        "* L'impost d'IRPF\n",
        "\n",
        "Per exemple: la teva tarifa és de 36 € / hora per a un curs de nivell bàsic, però si el curs és de nivell avançat caldrà afegir un plus de 8 € / hora. La durada del curs és de 90 hores, i l'IRPF que heu de deduir en la factura serà del 15%.\n"
      ]
    },
    {
      "cell_type": "markdown",
      "id": "1a88e78b-18ac-4a16-a2bf-b42ae4119711",
      "metadata": {
        "id": "1a88e78b-18ac-4a16-a2bf-b42ae4119711"
      },
      "source": [
        "#### Apartat 3.1 (1 punt)\n",
        "\n",
        "Feu una funció que calculi els diners _nets_ que cobrareu per a impartir un curs de formació. La funció ha de tenir la següent signatura:\n",
        "\n",
        "```python\n",
        "\"\"\"\n",
        "tarifa: la teva tarifa per hora.\n",
        "plus: el plus a afegir a la tarifa per hora si el curs és de nivell avançat.\n",
        "nivell: pot valer \"basic\" o \"advanced\". No es permeten altres valors.\n",
        "durara: durada del curs en hores.\n",
        "irpf: impost a descomptar ( a restar ), que serà del 15%.\n",
        "return paga: número enter, que representa el total d'€ que el professor rebrà com a paga per impartir el curs.\n",
        "\"\"\"\n",
        "def paga_per_curs(tarifa, plus, nivell, durada, irpf):\n",
        "    #TODO\n",
        "    return paga\n",
        "```"
      ]
    },
    {
      "cell_type": "code",
      "execution_count": 43,
      "id": "b3564b9f-daa8-4829-9ff2-d5a11d87914f",
      "metadata": {
        "execution": {
          "iopub.execute_input": "2023-01-01T09:16:06.292270Z",
          "iopub.status.busy": "2023-01-01T09:16:06.291599Z",
          "iopub.status.idle": "2023-01-01T09:16:06.296909Z",
          "shell.execute_reply": "2023-01-01T09:16:06.295166Z",
          "shell.execute_reply.started": "2023-01-01T09:16:06.292250Z"
        },
        "id": "b3564b9f-daa8-4829-9ff2-d5a11d87914f",
        "tags": []
      },
      "outputs": [],
      "source": [
        "# tarifa = 36\n",
        "# plus = 8\n",
        "# nivell = 'advanced'\n",
        "# durada = 90\n",
        "# irpf = 15\n",
        "\n",
        "def paga_per_curs(tarifa, plus, nivell, durada, irpf):\n",
        "    if nivell == \"basic\":\n",
        "      paga = tarifa*durada\n",
        "    elif nivell == \"advanced\":\n",
        "      paga = (tarifa + plus)*durada\n",
        "    else:\n",
        "      return \"Nivel no valido\"\n",
        "\n",
        "    paga = paga - (paga*irpf)\n",
        "\n",
        "    return int(paga)"
      ]
    },
    {
      "cell_type": "markdown",
      "id": "bd863d91-5094-493a-8e9d-97aac9d6df93",
      "metadata": {
        "id": "bd863d91-5094-493a-8e9d-97aac9d6df93"
      },
      "source": [
        "#### Apartat 3.2 (1 punt)\n",
        "\n",
        "Definim un curs amb un diccionari de la següent manera. Aquest és el primer curs que l'empresa t'ha demanat que imparteixis:\n",
        "\n",
        "```python\n",
        "curs_python_basic = {\n",
        "    nom_curs: \"Introducció a python\",\n",
        "    durada_curs: 120, # en hores\n",
        "    nivell: \"basic\",\n",
        "    modalitat: \"online\"\n",
        "}\n",
        "```"
      ]
    },
    {
      "cell_type": "markdown",
      "id": "4c76bf8c-9f59-4a67-9c77-7bf5ccbc58ad",
      "metadata": {
        "id": "4c76bf8c-9f59-4a67-9c77-7bf5ccbc58ad"
      },
      "source": [
        "L'empresa està contenta amb els teus serveis i et demana impartir dos cursos més:\n",
        "\n",
        "```python\n",
        "curs_python_avancat = {\n",
        "    nom_curs: \"Python avançat\",\n",
        "    durada_curs: 90, # en hores\n",
        "    nivell: \"advanced\",\n",
        "    modalitat: \"online\"\n",
        "}\n",
        "\n",
        "curs_data_science = {\n",
        "    nom_curs: \"Data Science amb ptyhon\",\n",
        "    durada_curs: 180,\n",
        "    nivell: \"advanced\",\n",
        "    modalitat: \"mixta\"\n",
        "}\n",
        "```"
      ]
    },
    {
      "cell_type": "markdown",
      "id": "1593f85d-09df-4b9a-b76d-41e0aa63d44d",
      "metadata": {
        "id": "1593f85d-09df-4b9a-b76d-41e0aa63d44d"
      },
      "source": [
        "Fes una funció que, donada una llista de cursos que has impartit, t'imprimeixi per pantalla la paga corresponent a cada curs i et **retorni la paga total final** a cobrar un cop impartits tots els cursos.\n",
        "\n",
        "> És necessari que reaprofitis la funció de l'apartat anterior.\n",
        "\n",
        "```python\n",
        "def paga_total(tarifa, plus, irpf, llista_cursos):\n",
        "    # TODO\n",
        "    return paga_total\n",
        "```"
      ]
    },
    {
      "cell_type": "code",
      "execution_count": 26,
      "id": "9786d911-2ccf-4dc4-bd11-b797c1b89a91",
      "metadata": {
        "execution": {
          "iopub.execute_input": "2023-01-01T09:21:41.120169Z",
          "iopub.status.busy": "2023-01-01T09:21:41.119934Z",
          "iopub.status.idle": "2023-01-01T09:21:41.125136Z",
          "shell.execute_reply": "2023-01-01T09:21:41.124042Z",
          "shell.execute_reply.started": "2023-01-01T09:21:41.120133Z"
        },
        "id": "9786d911-2ccf-4dc4-bd11-b797c1b89a91"
      },
      "outputs": [],
      "source": [
        "# tarifa = 36\n",
        "# plus = 8\n",
        "# irpf = 15\n",
        "# llista_cursos = [curs_python_basic, curs_python_avancat, curs_data_science]\n",
        "\n",
        "def paga_total(tarifa, plus, irpf, llista_cursos):\n",
        "    # TODO\n",
        "    return paga_total\n"
      ]
    },
    {
      "cell_type": "markdown",
      "id": "fa8db848-0492-42af-8ca8-80e2ace624db",
      "metadata": {
        "id": "fa8db848-0492-42af-8ca8-80e2ace624db"
      },
      "source": [
        "### Exercici 4 (2 punts)\n",
        "\n",
        "En aquest exercici implementaràs una funció que ordeni els elements d'una llista, de menor a major. Treballarem amb llistes de números enters. **No està permès que utilitzis funcions pròpies de python**. \n",
        "\n",
        "> Per a resoldre aquest exercici **és obligatori** que segueixis el següent algorisme:\n",
        "\n",
        "```\n",
        "Donada una llista list i una nova llista new_list:\n",
        "Per a cada element l de list, fes:\n",
        "    Per a cada element nl de new_list, fes:\n",
        "        si l és més petit que nl:\n",
        "            insereix l a new_list abans que l'element nl\n",
        "    si l'element l no ha estat inserit:\n",
        "        insereix l al final de new_list\n",
        "```"
      ]
    },
    {
      "cell_type": "code",
      "execution_count": null,
      "id": "f5241aac-c3db-434b-8cbd-37d3c837dc6a",
      "metadata": {
        "execution": {
          "iopub.execute_input": "2023-01-01T09:45:22.715574Z",
          "iopub.status.busy": "2023-01-01T09:45:22.714797Z",
          "iopub.status.idle": "2023-01-01T09:45:22.719950Z",
          "shell.execute_reply": "2023-01-01T09:45:22.718679Z",
          "shell.execute_reply.started": "2023-01-01T09:45:22.715544Z"
        },
        "tags": [],
        "id": "f5241aac-c3db-434b-8cbd-37d3c837dc6a"
      },
      "outputs": [],
      "source": [
        "# Genera, amb l'ajuda de random, una llista amb 100 números enters aleatoris entre 0 i 1000\n",
        "# my_random_list\n",
        "\n",
        "import random\n",
        "my_random_list = [random.randint(0, 1000) for x in range(100)]\n",
        "\n",
        "def my_sort(my_random_list):\n",
        "    new_list = []\n",
        "    for l in my_random_list:\n",
        "        inserted = False\n",
        "        for nl in new_list:\n",
        "            if l < nl:\n",
        "                new_list.insert(new_list.index(nl), l)\n",
        "                inserted = True\n",
        "                break\n",
        "        if not inserted:\n",
        "            new_list.append(l)\n",
        "    return new_list\n",
        "\n",
        "print(my_sort(my_random_list))"
      ]
    },
    {
      "cell_type": "markdown",
      "id": "7821c33a-09c1-46e0-bd0f-9d980e46b0b8",
      "metadata": {
        "id": "7821c33a-09c1-46e0-bd0f-9d980e46b0b8"
      },
      "source": [
        "### Exercici 5 (1 punt)\n",
        "\n",
        "Donada una llista de qualificacions, feu una funció que retorni la qualificació mitjana de totes aquelles qualificacions que superin la notal de tall (per exemple, l'aprovat).\n",
        "\n",
        "- Les qualificacions es donaran amb números amb 2 decimals.\n",
        "- Cal generar un array de 30 qualificacions aleatòries entre 0.00 i 10.00.\n",
        "- La nota de tall pot ser 5.00, però ha de poder ser una altra.\n",
        "\n",
        "_Ajuda_: per a generar un número aleatori decimal amb 2 decimals, podeu utilitzar el següent codi. Heu d'adaptar aquest codi per a generar una llista de qualificacions aleatòries.\n",
        "\n",
        "```pyton\n",
        "import random\n",
        "round(random.uniform(0.00, 10.00), 2)\n",
        "```"
      ]
    },
    {
      "cell_type": "code",
      "execution_count": null,
      "id": "66b9b71e-d2c6-4ce2-824c-c209bd90f24f",
      "metadata": {
        "execution": {
          "iopub.execute_input": "2023-01-01T10:23:16.772258Z",
          "iopub.status.busy": "2023-01-01T10:23:16.771459Z",
          "iopub.status.idle": "2023-01-01T10:23:16.777371Z",
          "shell.execute_reply": "2023-01-01T10:23:16.775770Z",
          "shell.execute_reply.started": "2023-01-01T10:23:16.772202Z"
        },
        "tags": [],
        "id": "66b9b71e-d2c6-4ce2-824c-c209bd90f24f"
      },
      "outputs": [],
      "source": [
        "import random\n",
        "round(random.uniform(0.00, 10.00), 2)\n",
        "def avg_passed(qualifications, nota_tall):\n",
        "    return average\n",
        "\n",
        "qualifications = []\n",
        "\n",
        "nota_tall = 5\n",
        "\n",
        "for i in range(30):\n",
        "    num = round(random.uniform(0.00, 10.00), 2)\n",
        "    qualifications.append(num)\n",
        "print(qualifications)\n",
        "\n",
        "def avg_passed(qualifications, nota_tall):\n",
        "    avg = 0\n",
        "    numbers = 0\n",
        "    for i in qualifications:\n",
        "        if i > nota_tall:\n",
        "            avg += i\n",
        "            numbers += 1\n",
        "    if numbers == 0:\n",
        "        return 0\n",
        "    else:\n",
        "        return avg / numbers\n",
        "print(avg_passed(qualifications, nota_tall))"
      ]
    },
    {
      "cell_type": "markdown",
      "id": "34b45258-1aed-4e05-bd30-ad9ed54c03b2",
      "metadata": {
        "id": "34b45258-1aed-4e05-bd30-ad9ed54c03b2"
      },
      "source": [
        "## Exercici Extra\n",
        "\n",
        "### Exercici 6 (2 punts)\n",
        "\n",
        "Des d'una funció principal (anomenada _main_) mostra el següent menú a l'usuari:\n",
        "\n",
        "```\n",
        "    1) Suma\n",
        "    2) Resta\n",
        "    Selecciona 1 o 2:\n",
        "```"
      ]
    },
    {
      "cell_type": "markdown",
      "id": "d040c082-c3fd-40f1-b4d8-86315a6e0613",
      "metadata": {
        "id": "d040c082-c3fd-40f1-b4d8-86315a6e0613"
      },
      "source": [
        "#### Apartat 6.1 (1 punt)\n",
        "\n",
        "- _Si l'usuari selecciona 1_: haurà d'executar-se una funció que generarà dos números enters aleatoris entre 5 i 20, i li demanarà a l'usuari que els sumi. Un cop entrada la suma, caldrà trobar el resultat correcte i imprimir per pantalla la resposta correcte i la resposta de l'usuari.\n",
        "- _Si l'usuari selecciona 2_: haurà d'executar-se una funció que generarà un número enter aleatori entre 25 i 50, i un segon número enter aleatori entre 1 i 25, i li demanarà a l'usuari que en faci la resta (el primer menys el segon). Caldrà imprimir per pantalla tant el resultat correcte com la resposta de l'usuari."
      ]
    },
    {
      "cell_type": "code",
      "execution_count": null,
      "id": "c9381b15-0191-4b65-a5aa-1a30c10a9571",
      "metadata": {
        "execution": {
          "iopub.execute_input": "2023-01-01T10:08:44.598492Z",
          "iopub.status.busy": "2023-01-01T10:08:44.598290Z",
          "iopub.status.idle": "2023-01-01T10:08:44.603640Z",
          "shell.execute_reply": "2023-01-01T10:08:44.602359Z",
          "shell.execute_reply.started": "2023-01-01T10:08:44.598474Z"
        },
        "tags": [],
        "id": "c9381b15-0191-4b65-a5aa-1a30c10a9571"
      },
      "outputs": [],
      "source": [
        "def main():\n",
        "    print(\"1) Suma\")\n",
        "    print(\"2) Resta\")\n",
        "    print(\"Selecciona 1 o 2:\")\n",
        "    opcio = int(input())\n",
        "    if opcio == 1:\n",
        "        suma()\n",
        "    elif opcio == 2:\n",
        "        resta()\n",
        "    else:\n",
        "        print(\"Opció incorrecta\")\n",
        "\n",
        "def suma():\n",
        "    print(\"Introdueix el primer nombre:\")\n",
        "    num1 = int(input())\n",
        "    print(\"Introdueix el segon nombre:\")\n",
        "    num2 = int(input())\n",
        "    print(\"La suma és:\", num1 + num2)\n",
        "\n",
        "def resta():\n",
        "    print(\"Introdueix el primer nombre:\")\n",
        "    num1 = int(input())\n",
        "    print(\"Introdueix el segon nombre:\")\n",
        "    num2 = int(input())\n",
        "    print(\"La resta és:\", num1 - num2)\n",
        "\n",
        "main()"
      ]
    },
    {
      "cell_type": "markdown",
      "id": "4f1231ca-2cc6-490c-ae76-3afb7a4ef4be",
      "metadata": {
        "execution": {
          "iopub.execute_input": "2023-01-01T10:02:57.949151Z",
          "iopub.status.busy": "2023-01-01T10:02:57.948727Z",
          "iopub.status.idle": "2023-01-01T10:02:57.953857Z",
          "shell.execute_reply": "2023-01-01T10:02:57.952172Z",
          "shell.execute_reply.started": "2023-01-01T10:02:57.949119Z"
        },
        "tags": [],
        "id": "4f1231ca-2cc6-490c-ae76-3afb7a4ef4be"
      },
      "source": [
        "#### Apartat 6.2 (1 punt)\n",
        "\n",
        "Crea una altra funció que comprovarà si la resposta donada per l'usuari és correcte o no. Si la resposta és correcte, imprimirà per pantalla _\"Resposta correcte !!\"_, altrament imprimirà _\"Resposta incorrecte. La resposta correcte és \"_ i imprimirà la resposta correcte. (En aquest cas, les funcions de l'apartat anterior ja no cal que imprimeixin els resultats correctes i els donats per l'usuari).\n",
        "\n",
        "Finalment, si l'usuari no selecciona 1 o 2 del menú principal, caldrà mostrar un missatge adequat i el menú haurà de tornar a aparèixer, amb una opció de Sortida:\n",
        "\n",
        "```\n",
        "    1) Suma\n",
        "    2) Resta\n",
        "    3) Sortir\n",
        "    Selecciona 1, 2 o 3:\n",
        "```"
      ]
    },
    {
      "cell_type": "code",
      "execution_count": 10,
      "id": "b2f72877-1b72-4f23-9f8e-c27c5d461ba4",
      "metadata": {
        "execution": {
          "iopub.execute_input": "2023-01-01T10:10:15.793150Z",
          "iopub.status.busy": "2023-01-01T10:10:15.792920Z",
          "iopub.status.idle": "2023-01-01T10:10:15.799447Z",
          "shell.execute_reply": "2023-01-01T10:10:15.797594Z",
          "shell.execute_reply.started": "2023-01-01T10:10:15.793130Z"
        },
        "tags": [],
        "id": "b2f72877-1b72-4f23-9f8e-c27c5d461ba4"
      },
      "outputs": [],
      "source": [
        "import random\n",
        "\n",
        "def suma():\n",
        "    num1 = random.randint(5,20)\n",
        "    num2 = random.randint(5,20)\n",
        "    print(\"Quina és la suma de\", num1, \"+\", num2, \"?\")\n",
        "    resposta = int(input())\n",
        "    if resposta == num1 + num2:\n",
        "        print(\"Correcte!\",resposta)\n",
        "    else:\n",
        "        print(\"Incorrecte!\",resposta)\n",
        "\n",
        "def resta():\n",
        "    num1 = random.randint(25,50)\n",
        "    num2 = random.randint(1,25)\n",
        "    print(\"Quina és la resta de\", num1, \"-\", num2, \"?\")\n",
        "    resposta = int(input())\n",
        "    if resposta == num1 - num2:\n",
        "        print(\"Correcte!\",resposta)\n",
        "    else:\n",
        "        print(\"Incorrecte!\",resposta)\n",
        "\n",
        "def main():\n",
        "    print(\"1. Suma\")\n",
        "    print(\"2. Resta\")\n",
        "    opcio = int(input())\n",
        "    if opcio == 1:\n",
        "        suma()\n",
        "    elif opcio == 2:\n",
        "        resta()\n",
        "    else:\n",
        "        print(\"Opció incorrecta\")\n",
        "\n",
        "main()"
      ]
    }
  ],
  "metadata": {
    "colab": {
      "provenance": [],
      "collapsed_sections": [
        "34b45258-1aed-4e05-bd30-ad9ed54c03b2"
      ],
      "include_colab_link": true
    },
    "kernelspec": {
      "display_name": "Python 3",
      "language": "python",
      "name": "python3"
    },
    "language_info": {
      "codemirror_mode": {
        "name": "ipython",
        "version": 3
      },
      "file_extension": ".py",
      "mimetype": "text/x-python",
      "name": "python",
      "nbconvert_exporter": "python",
      "pygments_lexer": "ipython3",
      "version": "3.10.8"
    }
  },
  "nbformat": 4,
  "nbformat_minor": 5
}